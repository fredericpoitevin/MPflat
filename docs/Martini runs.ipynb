{
 "cells": [
  {
   "cell_type": "markdown",
   "metadata": {},
   "source": [
    "We start here: \n",
    "http://cgmartini.nl/index.php/tutorials-general-introduction-gmx5/bilayers-gmx5#Lipid-bilayer\n",
    "\n",
    "and want to do something like this: \n",
    "http://cgmartini.nl/index.php/tutorials-general-introduction-gmx5/proteins-gmx5#membrane-protein\n",
    "\n",
    "and download the gromacs-2016 tarball"
   ]
  },
  {
   "cell_type": "markdown",
   "metadata": {},
   "source": [
    "# Bilayer self-assembly\n",
    "\n",
    "```\n",
    "cd ~/moldyn/MPflat/martini-tutorial/bilayer-lipidome-tutorial/spontaneous-assembly/initial_assembly\n",
    "gmx insert-molecules -ci DPPC-em.gro -box 7.5 7.5 7.5 -nmol 128 -radius 0.21 -try 500 -o 128_noW.gro\n",
    "[gedit/vi] dppc.top # (make sure the .itp files are here)\n",
    "gmx grompp -f minimization.mdp -c 128_noW.gro -p dppc.top -o dppc-min-init.tpr\n",
    "gmx mdrun -deffnm dppc-min-init -v -c 128_minimized.gro\n",
    "gmx solvate -cp 128_minimized.gro -cs water.gro -o waterbox.gro -maxsol 768 -radius 0.21\n",
    "[gedit/vi/other editor] dppc.top # (make sure it reflects the number of water added)\n",
    "gmx grompp -f minimization.mdp -c waterbox.gro -p dppc.top -o dppc-min-solvent.tpr \n",
    "gmx mdrun -deffnm dppc-min-solvent -v -c minimized.gro\n",
    "```\n",
    "then launched actual self-assembly run \n",
    "```\n",
    "#!/bin/bash\n",
    "#\n",
    "#SBATCH --job-name=MPflattest\n",
    "#SBATCH --output=test_%j.log\n",
    "#SBATCH --dependency=singleton\n",
    "#\n",
    "## Time\n",
    "##SBATCH --qos=long\n",
    "##SBATCH --time=168:00:0\n",
    "## CPU cores\n",
    "#SBATCH --ntasks=1\n",
    "#SBATCH --cpus-per-task=1\n",
    "## Max RAM\n",
    "##SBATCH --mem-per-cpu=8G\n",
    "## GPUs (same socket)\n",
    "#SBATCH --gres gpu:1\n",
    "#SBATCH --gres-flags=enforce-binding\n",
    "\n",
    "module load GCC CUDA/8.0.44 binutils/2.25\n",
    "source /home/stanford/levittm/shared/software/gromacs/bin/GMXRC\n",
    "\n",
    "# self-assembly run\n",
    "\n",
    "srun gmx grompp -f martini_md.mdp -c minimized.gro -p dppc.top -o dppc-md.tpr\n",
    "srun gmx mdrun -deffnm dppc-md -v\n",
    "```"
   ]
  },
  {
   "cell_type": "code",
   "execution_count": null,
   "metadata": {},
   "outputs": [],
   "source": []
  }
 ],
 "metadata": {
  "kernelspec": {
   "display_name": "Python 3",
   "language": "python",
   "name": "python3"
  },
  "language_info": {
   "codemirror_mode": {
    "name": "ipython",
    "version": 3
   },
   "file_extension": ".py",
   "mimetype": "text/x-python",
   "name": "python",
   "nbconvert_exporter": "python",
   "pygments_lexer": "ipython3",
   "version": "3.6.4"
  }
 },
 "nbformat": 4,
 "nbformat_minor": 2
}
