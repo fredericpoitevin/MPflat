{
 "cells": [
  {
   "cell_type": "markdown",
   "metadata": {},
   "source": [
    "downloaded `bc-30.out` from [RCSB FTP archive](https://www.rcsb.org/pages/download/ftp). It contains 404955 chains, clustered in 27927 lines.\n"
   ]
  },
  {
   "cell_type": "markdown",
   "metadata": {},
   "source": [
    "## Scaling\n",
    "See [Refmac paper](https://www.ncbi.nlm.nih.gov/pmc/articles/PMC3069751/), where one minimizes\n",
    "$\\sum|F_o - F_{total}|^{2}$, with \n",
    "$$\n",
    "\\begin{eqnarray}\n",
    "F_{total} &=& k_{overall}k_{aniso}(1-k_{Babinet})(F_{protein}+k_{mask}F_{mask})\\\\\\nonumber\n",
    "&& k_{overal} = k_{overall0}\\exp (-B_{overall}|s|{^2})\\\\\\nonumber\n",
    "&& k_{Babinet} = k_{Babinet0}\\exp (-B_{Babinet}|s|{^2})\\\\\\nonumber\n",
    "&& k_{mask} = k_{mask0}\\exp (-B_{mask}|s|{^2})\\\\\\nonumber\n",
    "&& k_{aniso} = \\exp (-s^{T} U_{aniso}s), tr(U)=0\\\\\\nonumber\n",
    "\\end{eqnarray}\n",
    "$$\n",
    "\n",
    "### INPUT\n",
    "\n",
    "**Solvent mask calculation**\n",
    "SOLVENT [YES|NO] [VDWProb <vdwprob>] [IONProb <ionprob >] [RSHRink <rshrink>]\n",
    "    \n",
    "*default is use the bulk solvent correction based on a constant value with the parameters of the mask VDWProb=1.4, IONProbe=0.8, RSHRink=0.8*\n",
    "\n",
    "[more info here](https://www2.mrc-lmb.cam.ac.uk/groups/murshudov/content/refmac/refmac_keywords.html#id.b236767394ac)\n",
    "\n",
    "**Scaling**\n",
    "\n",
    "SCALE TYPE BULK is default and uses Babinet's bulk solvent, even when SOLVENT is set to NO.\n",
    "scale type bulk\n",
    "scale lsscalle fixbulk bvalue <value> scale <scale>\n",
    "    \n",
    "SCALE TYPE SIMPLE does not use Babinet's bulk solvent.\n",
    "\n",
    "\n",
    "    \n",
    "### OUTPUT\n",
    "\n",
    "[link](http://www.ccp4.ac.uk/html/refmac5/files/log.html#input_def) \n",
    "Scale and sigmaA parameters\n",
    "REFMAC prints out the scale and sigmaA parameters at every cycle. However, if anisotropic scale is used it is estimated at the first cycle only. For example:\n",
    "\n",
    "```\n",
    "[Least-square output?]\n",
    "Overall               : scale =   0.604, B  =  -0.050\n",
    "Babinet's bulk solvent: scale =   0.299, B  = 200.000\n",
    "Partial structure    1: scale =   0.727, B  =  13.532 # <=== mask scaling parameters\n",
    "Overall anisotropic scale factors\n",
    "   B11 =  0.98 B22 = -0.91 B33 =  0.21 B12 =  0.00 B13 =  0.31 B23 =  0.00\n",
    "[maximum-likelihood output?]\n",
    "Overall sigmaA parameters  : sigmaA0 =   0.930, B_sigmaA  =   2.136\n",
    "Babinet's scale for sigmaA : scale =    -0.191, B  =        150.000\n",
    "SigmaA fo partial structure   1: scale =   0.304, B  =  56.473\n",
    "```\n"
   ]
  },
  {
   "cell_type": "code",
   "execution_count": null,
   "metadata": {},
   "outputs": [],
   "source": []
  }
 ],
 "metadata": {
  "kernelspec": {
   "display_name": "Python 3",
   "language": "python",
   "name": "python3"
  },
  "language_info": {
   "codemirror_mode": {
    "name": "ipython",
    "version": 3
   },
   "file_extension": ".py",
   "mimetype": "text/x-python",
   "name": "python",
   "nbconvert_exporter": "python",
   "pygments_lexer": "ipython3",
   "version": "3.6.4"
  }
 },
 "nbformat": 4,
 "nbformat_minor": 2
}
