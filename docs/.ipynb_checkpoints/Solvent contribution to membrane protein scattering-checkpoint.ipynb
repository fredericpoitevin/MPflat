{
 "cells": [
  {
   "cell_type": "markdown",
   "metadata": {},
   "source": [
    "# Solvent treatment in macromolecular crystallography\n",
    "\n",
    "Is there room for improvement in the way solvent regions are accounted for/modelled in macromolecular crystallography ? Waht are possible improvements in order to increase the amount of extractable information, and better resulting models."
   ]
  },
  {
   "cell_type": "markdown",
   "metadata": {},
   "source": [
    "## Introduction\n",
    "\n",
    "Untapped potential (Holton) ? \n",
    "\n",
    "Membrane proteins of known structures: http://blanco.biomol.uci.edu/mpstruc/"
   ]
  },
  {
   "cell_type": "markdown",
   "metadata": {},
   "source": [
    "## Methods"
   ]
  },
  {
   "cell_type": "markdown",
   "metadata": {},
   "source": [
    "### \"Structure\" of the solvent - MD of unit cells\n",
    "\n",
    "See Wall(2018) for a possible method. Coarse-grained simulations of unit cells (with fixed macromolecules) might give some insight on how detergent and lipids partition themselves in the solvent channel. Might be useful as a starting point for refining against Bragg and continuous scattering."
   ]
  },
  {
   "cell_type": "markdown",
   "metadata": {},
   "source": [
    "### Density modification\n",
    "\n",
    "A first idea would be to consider that improper treatment of the solvent region leads to a signature in the plot of Rfree by resolution shell (see https://www.phenix-online.org/documentation/reference/unmerged_data.html ). It would be interesting to see how this plot actually looks like for a representative set of membrane versus water. \n",
    "\n",
    "\n",
    "One way to correct is to play with the mask.\n",
    "Look at Afonine's account in [phenix2008](../refs/Tips-and-Tricks-phenix_refine_2008_may_22_CCP4_final.pdf), or Murshudov's code in [refmac](http://www.ccp4.ac.uk/html/refmac5/keywords/xray-principal.html#solv). Refmac is open source, and things seem to happen in `solvent_contr_mask.f`. I think DEN(i,j,k) is set to 0 in the protein, and 1 elsewhere, so we could just modulate that a little.\n",
    "\n",
    "Trying to install refmac:\n",
    "\n",
    "#### option 1:  on my Mac (failed so far)\n",
    "install [ccp4](http://www.ccp4.ac.uk/dev/main.php) (failed so far). Second try: [downloaded this](http://devtools.fg.oisin.rc-harwell.ac.uk/src-readme.html). Had to install BLAS and LAPACK libraries [see here](https://pheiter.wordpress.com/2012/09/04/howto-installing-lapack-and-blas-on-mac-os/). Encountered a problem with the -static option, that seems to cause problems with my gcc. Trying again following the BUILD protocol...\n",
    "\n",
    "``\n",
    "(in SRC = /Applications/ccp4-7.0/src/ccp4-src-2016-02-10/ )\n",
    " ./build patchelf : OK\n",
    " ./update qt4 : OK\n",
    " ./build qt4 : failed, instead linked /Applications/ccp4-7.0/lib/qt4 in SRC/ccp4-dev/lib/\n",
    " ./build ccp4-osx : failed list = molrep, sfcheck\n",
    "``\n",
    "\n",
    "edited `cj.rc`:\n",
    "- number of jobs : 4\n",
    "\n",
    "Now going to refmac only, `makefile_linuxgfortran` seems promising...\n",
    "We need\n",
    "\n",
    "``gfortran: error: /Applications/ccp4-7.0/lib/libmmdb.a: No such file or directory\n",
    "gfortran: error: /Applications/ccp4-7.0/lib/libfftw.a: No such file or directory\n",
    "``\n",
    "\n",
    "working on `makefile`, reinstalled gcc with Homebrew (version 8), and had to change `/opt/local/bin/as` to `/opt/local/bin/as.bak`, and `/opt/local/bin/ld` to `/opt/local/bin/ld.bak`\n",
    "As a consequence, had to change `gibbs_gm_sampler.f90` so `random_seed` from the updated gcc work.\n",
    "Also installed [ld](https://github.com/VerKnowSys/Sofin-llds) in `usr/local/bin`, and `sudo ln -s /usr/local/bin/ld` in `/opt/local/bin`.\n",
    "\n",
    "(for the record, maybe check [this](ftp://ftp.ccp4.ac.uk/ccp4/6.0.2/prerelease/ (failed so far)).\n",
    "\n",
    "#### option 2: on psana\n",
    "\n",
    "careful with [data retention policy](https://confluence.slac.stanford.edu/display/PCDS/Data+Retention+Policy) : `df -h ~fpoitevi`\n",
    "\n",
    "will work on psana in `/reg/d/psdm/misc/CryoEM/cgati/detergent-flattening`\n",
    "\n",
    "##### Installation\n",
    "\n",
    "untarred ccp4 in `/reg/neh/home5/fpoitevi/Toolkit/ccp4/`.\n",
    "\n",
    "Thought of using `yum` for a moment.\n",
    "``\n",
    "pip install rpm-py-installer : failed (no permission)\n",
    "(can be solved by doing it in myana)\n",
    "(did not try further)\n",
    "``\n",
    "\n",
    "Seems that we already have most libraries, and can probably install missing ones with pip within myana [How-To](https://confluence.slac.stanford.edu/display/PSDMInternal/User+Documentation#UserDocumentation-UserCondaEnvironments). Let's follow the [procedure](http://devtools.fg.oisin.rc-harwell.ac.uk/src-readme.html):\n",
    "\n",
    "``\n",
    "./build patchelf (had to do that twive)\n",
    "./update qt4\n",
    "./build qt4\n",
    "``\n"
   ]
  },
  {
   "cell_type": "markdown",
   "metadata": {},
   "source": [
    "\n",
    "### Systems considered\n",
    "\n",
    "#### GLIC\n",
    "\n",
    "[GLIC with Se-DDM](http://www.rcsb.org/structure/4IL4)"
   ]
  },
  {
   "cell_type": "markdown",
   "metadata": {},
   "source": [
    "## References\n",
    "\n",
    "- Holton, Classen, Frankel, Tainer. *The R-factor gap in macromolecular crystallography: an untapped potential for insights on accurate structures.* (2014) FEBS J [(link)](https://www.ncbi.nlm.nih.gov/pubmed/25040949/)\n",
    "- Weichenberger, Afonine, Kantardjieff, Rupp. *The solvent component of macromolecular crystals* (2015) Acta D [(link)](https://www.ncbi.nlm.nih.gov/pmc/articles/PMC4427195/)\n",
    "- Carpenter, Beis, Cameron, Iwata. *Overcoming the challenges of membrane protein crystallography* (2008) COSB [(link)](https://www.ncbi.nlm.nih.gov/pmc/articles/PMC2580798/)\n",
    "- http://blanco.biomol.uci.edu/mpstruc/\n",
    "- Urzhumtsev. *MODELLING OF DISORDERED SOLVENT IN MACROMOLECULAR CRYSTALS* [(CCP4 newsletter)](http://www.ccp4.ac.uk/newsletters/newsletter38/08_solvent.html)\n",
    "- Wall. *Internal protein motions in molecular-dynamics simulations of Bragg and diffuse X-ray scattering.* (2018) IUCrJ [(link)](https://journals.iucr.org/m/issues/2018/02/00/ec5007/index.html)"
   ]
  },
  {
   "cell_type": "code",
   "execution_count": null,
   "metadata": {},
   "outputs": [],
   "source": []
  }
 ],
 "metadata": {
  "kernelspec": {
   "display_name": "Python 3",
   "language": "python",
   "name": "python3"
  },
  "language_info": {
   "codemirror_mode": {
    "name": "ipython",
    "version": 3
   },
   "file_extension": ".py",
   "mimetype": "text/x-python",
   "name": "python",
   "nbconvert_exporter": "python",
   "pygments_lexer": "ipython3",
   "version": "3.6.4"
  }
 },
 "nbformat": 4,
 "nbformat_minor": 2
}
