{
 "cells": [
  {
   "cell_type": "markdown",
   "metadata": {},
   "source": [
    "## Solvent treatment in macromolecular crystallography\n",
    "\n",
    "We address here whether there is room for improvement in the way solvent regions are accounted for/modelled in macromolecular crystallography, and whether possible improvements can be designed to increase the amount of extractable information, and better resulting models."
   ]
  },
  {
   "cell_type": "markdown",
   "metadata": {},
   "source": [
    "### Theory"
   ]
  },
  {
   "cell_type": "markdown",
   "metadata": {},
   "source": [
    "#### Macromolecule in aqueous phase"
   ]
  },
  {
   "cell_type": "markdown",
   "metadata": {},
   "source": [
    "#### Macromolecule in mixed phase (water/oil)"
   ]
  },
  {
   "cell_type": "markdown",
   "metadata": {},
   "source": [
    "### Existing/Implemented methods"
   ]
  },
  {
   "cell_type": "markdown",
   "metadata": {},
   "source": [
    "#### The case of water-soluble proteins"
   ]
  },
  {
   "cell_type": "markdown",
   "metadata": {},
   "source": [
    "#### The case of detergent solubilized proteins"
   ]
  },
  {
   "cell_type": "markdown",
   "metadata": {},
   "source": [
    "#### The case of LCP"
   ]
  },
  {
   "cell_type": "markdown",
   "metadata": {},
   "source": [
    "### Untapped potential ?"
   ]
  },
  {
   "cell_type": "markdown",
   "metadata": {},
   "source": [
    "## References\n",
    "\n",
    "1. Holton, Classen, Frankel, Tainer. *The R-factor gap in macromolecular crystallography: an untapped potential for insights on accurate structures.* (2014) FEBS J [(link)](https://www.ncbi.nlm.nih.gov/pubmed/25040949/)\n",
    "2. Weichenberger, Afonine, Kantardjieff, Rupp. *The solvent component of macromolecular crystals* (2015) Acta D [(link)](https://www.ncbi.nlm.nih.gov/pmc/articles/PMC4427195/)"
   ]
  },
  {
   "cell_type": "code",
   "execution_count": null,
   "metadata": {},
   "outputs": [],
   "source": []
  }
 ],
 "metadata": {
  "kernelspec": {
   "display_name": "Python 3",
   "language": "python",
   "name": "python3"
  },
  "language_info": {
   "codemirror_mode": {
    "name": "ipython",
    "version": 3
   },
   "file_extension": ".py",
   "mimetype": "text/x-python",
   "name": "python",
   "nbconvert_exporter": "python",
   "pygments_lexer": "ipython3",
   "version": "3.6.4"
  }
 },
 "nbformat": 4,
 "nbformat_minor": 2
}
